{
  "nbformat": 4,
  "nbformat_minor": 0,
  "metadata": {
    "colab": {
      "name": "MNIST.ipynb",
      "version": "0.3.2",
      "provenance": [],
      "collapsed_sections": []
    },
    "kernelspec": {
      "name": "python3",
      "display_name": "Python 3"
    }
  },
  "cells": [
    {
      "cell_type": "markdown",
      "metadata": {
        "id": "0U-OIwvbzsLm",
        "colab_type": "text"
      },
      "source": [
        "# MNIST dataset\n",
        "\n",
        "[Original Source](http://yann.lecun.com/exdb/mnist/)"
      ]
    },
    {
      "cell_type": "markdown",
      "metadata": {
        "id": "4WDhRIOG3e7j",
        "colab_type": "text"
      },
      "source": [
        "*Load settings*"
      ]
    },
    {
      "cell_type": "code",
      "metadata": {
        "id": "7PtTW7r33UWi",
        "colab_type": "code",
        "colab": {}
      },
      "source": [
        "import os\n",
        "%matplotlib inline\n",
        "import matplotlib\n",
        "import matplotlib.pyplot as plt\n",
        "\n",
        "params = {'root_dir': 'data/',\n",
        "          'batch_size': 128\n",
        "         }\n",
        "\n",
        "# Ensure results directory exists\n",
        "def ensure_dir(root_dir):\n",
        "  if not os.path.exists(root_dir):\n",
        "    os.mkdir(root_dir)\n",
        "\n",
        "ensure_dir(params['root_dir'])"
      ],
      "execution_count": 0,
      "outputs": []
    },
    {
      "cell_type": "markdown",
      "metadata": {
        "id": "DpLG4Xsmzh0T",
        "colab_type": "text"
      },
      "source": [
        "# PyTorch\n",
        "\n",
        "*Import libraries and settings*"
      ]
    },
    {
      "cell_type": "code",
      "metadata": {
        "id": "l_KKAB1y2zDL",
        "colab_type": "code",
        "colab": {}
      },
      "source": [
        "import torch\n",
        "import torchvision.datasets as datasets\n",
        "import torchvision.transforms as transforms\n",
        "\n",
        "# Get train and test datasets\n",
        "subroot_dir = params['root_dir'] + 'pytorch/'\n",
        "print(\"To be saved in '{}'\".format(subroot_dir))\n",
        "ensure_dir(subroot_dir)"
      ],
      "execution_count": 0,
      "outputs": []
    },
    {
      "cell_type": "markdown",
      "metadata": {
        "id": "RQYTmsZ223Kz",
        "colab_type": "text"
      },
      "source": [
        "*Load dataset*"
      ]
    },
    {
      "cell_type": "code",
      "metadata": {
        "id": "F4QUgz3xziI7",
        "colab_type": "code",
        "colab": {}
      },
      "source": [
        "trans = transforms.Compose([transforms.ToTensor(), transforms.Normalize((0.1307,), (0.3081,))])\n",
        "mnist_train = datasets.MNIST(\n",
        "    root=subroot_dir,  # directory where the data is or where it will be saved\n",
        "    train=True,  # train dataset\n",
        "    download=True,  # download if you don't have it\n",
        "    transform=trans)  # converts PIL.image or np.ndarray to torch.FloatTensor of shape (C, H, W) and normalizes from (0.0, 1.0)\n",
        "\n",
        "mnist_test = datasets.MNIST(root=subroot_dir, train=False, download=True, transform=trans)"
      ],
      "execution_count": 0,
      "outputs": []
    },
    {
      "cell_type": "markdown",
      "metadata": {
        "id": "KN6V38Na6UNb",
        "colab_type": "text"
      },
      "source": [
        "*Dataloader*: In PyTorch, data needs to be in dataloader format to be accepted as input to a model."
      ]
    },
    {
      "cell_type": "code",
      "metadata": {
        "id": "utKBTSwd39pj",
        "colab_type": "code",
        "colab": {
          "base_uri": "https://localhost:8080/",
          "height": 34
        },
        "outputId": "613a1629-8399-4691-cac7-2cbfceef1a8a"
      },
      "source": [
        "print(\"MNIST Train {}, Test {}\".format(len(mnist_train), len(mnist_test)))\n",
        "\n",
        "# Dataloader: mini-batch during training\n",
        "mnist_train_dataloader = torch.utils.data.DataLoader(dataset=mnist_train, batch_size=batch_size, shuffle=True)\n",
        "mnist_test_dataloader = torch.utils.data.DataLoader(dataset=mnist_test, batch_size=batch_size, shuffle=True)"
      ],
      "execution_count": 28,
      "outputs": [
        {
          "output_type": "stream",
          "text": [
            "MNIST Train 60000, Test 10000\n"
          ],
          "name": "stdout"
        }
      ]
    },
    {
      "cell_type": "markdown",
      "metadata": {
        "id": "siuxeQeIzlZe",
        "colab_type": "text"
      },
      "source": [
        "*Dataset examples*"
      ]
    },
    {
      "cell_type": "code",
      "metadata": {
        "id": "uIW-tW5tzmF8",
        "colab_type": "code",
        "colab": {
          "base_uri": "https://localhost:8080/",
          "height": 138
        },
        "outputId": "1d571878-d23a-41d6-d0ae-ae9c276d9178"
      },
      "source": [
        "# Plot examples\n",
        "examples = enumerate(mnist_test_dataloader)\n",
        "batch_idx, (example_data, example_targets) = next(examples)\n",
        "\n",
        "fig, axes = plt.subplots(nrows=1, ncols=4)\n",
        "for i, ax in enumerate(axes.flat):\n",
        "  ax.imshow(example_data[i][0], cmap='gray')  # Greys\n",
        "  ax.set_title('{}'.format(example_targets[i]))\n",
        "\n",
        "  # Remove ticks\n",
        "  ax.set_xticks([])\n",
        "  ax.set_yticks([])\n",
        "  \n",
        "  plt.tight_layout()"
      ],
      "execution_count": 77,
      "outputs": [
        {
          "output_type": "display_data",
          "data": {
            "image/png": "[encoded data removed]",
            "text/plain": [
              "<Figure size 432x288 with 4 Axes>"
            ]
          },
          "metadata": {
            "tags": []
          }
        }
      ]
    },
    {
      "cell_type": "markdown",
      "metadata": {
        "id": "S-By2l8b4vBW",
        "colab_type": "text"
      },
      "source": [
        "# Tensorflow\n",
        "\n",
        "*Import libraries and settings*\n",
        "\n",
        "[Further info](https://nextjournal.com/gkoehler/digit-recognition-with-keras) on training a model"
      ]
    },
    {
      "cell_type": "code",
      "metadata": {
        "id": "kvhuck80TDrH",
        "colab_type": "code",
        "colab": {}
      },
      "source": [
        "!pip install -q tensorflow==2.0.0-alpha0\n",
        "import tensorflow as tf\n",
        "\n",
        "# Get train and test datasets\n",
        "subroot_dir = params['root_dir'] + 'tf/'\n",
        "ensure_dir(subroot_dir)"
      ],
      "execution_count": 0,
      "outputs": []
    },
    {
      "cell_type": "markdown",
      "metadata": {
        "id": "hqm85g_n6C5f",
        "colab_type": "text"
      },
      "source": [
        "*Load dataset*"
      ]
    },
    {
      "cell_type": "code",
      "metadata": {
        "id": "ivQen2TXTHzf",
        "colab_type": "code",
        "colab": {
          "base_uri": "https://localhost:8080/",
          "height": 51
        },
        "outputId": "2aec00be-eb69-409c-98c6-2f3d2d432a0a"
      },
      "source": [
        "mnist = tf.keras.datasets.mnist\n",
        "\n",
        "# '~/.keras/datasets/' + path\n",
        "(x_train, y_train), (x_test, y_test) = mnist.load_data()\n",
        "x_train, x_test = x_train / 255.0, x_test / 255.0\n",
        "\n",
        "print(\"Train: {}\".format(x_train.shape))\n",
        "print(\"Test : {}\".format(x_test.shape))"
      ],
      "execution_count": 88,
      "outputs": [
        {
          "output_type": "stream",
          "text": [
            "Train: (60000, 28, 28)\n",
            "Test : (10000, 28, 28)\n"
          ],
          "name": "stdout"
        }
      ]
    },
    {
      "cell_type": "markdown",
      "metadata": {
        "id": "ooVGnJHA6FQs",
        "colab_type": "text"
      },
      "source": [
        "*Dataset examples*"
      ]
    },
    {
      "cell_type": "code",
      "metadata": {
        "id": "I_6DHN19dlcR",
        "colab_type": "code",
        "colab": {
          "base_uri": "https://localhost:8080/",
          "height": 138
        },
        "outputId": "d942103b-00e9-4136-d64b-03c2b773931b"
      },
      "source": [
        "fig, axes = plt.subplots(nrows=1, ncols=4)\n",
        "for i, ax in enumerate(axes.flat):\n",
        "  ax.imshow(x_test[i], cmap='gray')  # Greys\n",
        "  ax.set_title('{}'.format(y_test[i]))\n",
        "\n",
        "  # Remove ticks\n",
        "  ax.set_xticks([])\n",
        "  ax.set_yticks([])\n",
        "  \n",
        "  plt.tight_layout()"
      ],
      "execution_count": 90,
      "outputs": [
        {
          "output_type": "display_data",
          "data": {
            "image/png": "[encoded data removed]",
            "text/plain": [
              "<Figure size 432x288 with 4 Axes>"
            ]
          },
          "metadata": {
            "tags": []
          }
        }
      ]
    },
    {
      "cell_type": "markdown",
      "metadata": {
        "id": "q0tMQtW46Hag",
        "colab_type": "text"
      },
      "source": [
        "# Sklearn\n",
        "\n",
        "*Import libraries and settings*"
      ]
    },
    {
      "cell_type": "code",
      "metadata": {
        "id": "E2NqCue36rKj",
        "colab_type": "code",
        "colab": {}
      },
      "source": [
        "from sklearn.datasets import fetch_openml\n",
        "import numpy as np\n",
        "from sklearn.model_selection import train_test_split"
      ],
      "execution_count": 0,
      "outputs": []
    },
    {
      "cell_type": "markdown",
      "metadata": {
        "id": "CbQOJHK36J3c",
        "colab_type": "text"
      },
      "source": [
        "*Load dataset from [link](https://www.openml.org/d/554)*"
      ]
    },
    {
      "cell_type": "code",
      "metadata": {
        "id": "K5Rc1gCaNlIm",
        "colab_type": "code",
        "colab": {
          "base_uri": "https://localhost:8080/",
          "height": 34
        },
        "outputId": "d0da4a4e-12dc-4697-850f-7a2c1a8d68ab"
      },
      "source": [
        "X, y = fetch_openml('mnist_784', version=1, return_X_y=True)\n",
        "print(\"Total shape: {}\".format(np.shape(X)))"
      ],
      "execution_count": 5,
      "outputs": [
        {
          "output_type": "stream",
          "text": [
            "Total shape: (70000, 784)\n"
          ],
          "name": "stdout"
        }
      ]
    },
    {
      "cell_type": "code",
      "metadata": {
        "id": "-VMMdMU1pzrH",
        "colab_type": "code",
        "colab": {
          "base_uri": "https://localhost:8080/",
          "height": 51
        },
        "outputId": "8335c3b1-87ce-4d0b-fe6a-4e03d72f09c7"
      },
      "source": [
        "# X = X.reshape((X.shape[0], -1))\n",
        "\n",
        "X_train, X_test, y_train, y_test = train_test_split(X, y, train_size=60000, test_size=10000)\n",
        "print(\"Train: {}\".format(np.shape(X_train)))\n",
        "print(\"Test: {}\".format(np.shape(X_test)))"
      ],
      "execution_count": 15,
      "outputs": [
        {
          "output_type": "stream",
          "text": [
            "Train: (60000, 784)\n",
            "Test: (10000, 784)\n"
          ],
          "name": "stdout"
        }
      ]
    },
    {
      "cell_type": "markdown",
      "metadata": {
        "id": "2HL4CFlW6K-y",
        "colab_type": "text"
      },
      "source": [
        "*Dataset examples*"
      ]
    },
    {
      "cell_type": "code",
      "metadata": {
        "id": "bOaHw2hlqxff",
        "colab_type": "code",
        "colab": {
          "base_uri": "https://localhost:8080/",
          "height": 155
        },
        "outputId": "8853625c-3478-47af-952a-01b255ab996e"
      },
      "source": [
        "X_test_sample = X_test.reshape((X_test.shape[0], 28, 28))\n",
        "print(\"Total shape: {}\".format(np.shape(X_test_sample)))\n",
        "\n",
        "fig, axes = plt.subplots(nrows=1, ncols=4)\n",
        "for i, ax in enumerate(axes.flat):\n",
        "  ax.imshow(X_test_sample[i], cmap='gray')  # Greys\n",
        "  ax.set_title('{}'.format(y_test[i]))\n",
        "\n",
        "  # Remove ticks\n",
        "  ax.set_xticks([])\n",
        "  ax.set_yticks([])\n",
        "  \n",
        "  plt.tight_layout()"
      ],
      "execution_count": 16,
      "outputs": [
        {
          "output_type": "stream",
          "text": [
            "Total shape: (10000, 28, 28)\n"
          ],
          "name": "stdout"
        },
        {
          "output_type": "display_data",
          "data": {
            "image/png": "[encoded data removed]",
            "text/plain": [
              "<Figure size 432x288 with 4 Axes>"
            ]
          },
          "metadata": {
            "tags": []
          }
        }
      ]
    }
  ]
}